{
    "cells": [
        {
            "metadata": {},
            "cell_type": "markdown",
            "source": "My Title"
        },
        {
            "metadata": {},
            "cell_type": "code",
            "source": "import numpy as np\nimport pandas as pd\nimport matplotlib.pyplot as plt",
            "execution_count": 5,
            "outputs": []
        },
        {
            "metadata": {},
            "cell_type": "code",
            "source": "%matplotlib inline",
            "execution_count": 6,
            "outputs": []
        },
        {
            "metadata": {},
            "cell_type": "code",
            "source": "index = ['sales','returns','credit fees','rebates','late charges','shipping']\ndata = {'amount': [350000,-30000,-7500,-25000,95000,-7000]}\ntrans = pd.DataFrame(data=data,index=index)",
            "execution_count": 7,
            "outputs": []
        },
        {
            "metadata": {},
            "cell_type": "code",
            "source": "from IPython.display import display\ndisplay(trans)\n",
            "execution_count": 8,
            "outputs": [
                {
                    "output_type": "display_data",
                    "data": {
                        "text/plain": "              amount\nsales         350000\nreturns       -30000\ncredit fees    -7500\nrebates       -25000\nlate charges   95000\nshipping       -7000",
                        "text/html": "<div>\n<style scoped>\n    .dataframe tbody tr th:only-of-type {\n        vertical-align: middle;\n    }\n\n    .dataframe tbody tr th {\n        vertical-align: top;\n    }\n\n    .dataframe thead th {\n        text-align: right;\n    }\n</style>\n<table border=\"1\" class=\"dataframe\">\n  <thead>\n    <tr style=\"text-align: right;\">\n      <th></th>\n      <th>amount</th>\n    </tr>\n  </thead>\n  <tbody>\n    <tr>\n      <th>sales</th>\n      <td>350000</td>\n    </tr>\n    <tr>\n      <th>returns</th>\n      <td>-30000</td>\n    </tr>\n    <tr>\n      <th>credit fees</th>\n      <td>-7500</td>\n    </tr>\n    <tr>\n      <th>rebates</th>\n      <td>-25000</td>\n    </tr>\n    <tr>\n      <th>late charges</th>\n      <td>95000</td>\n    </tr>\n    <tr>\n      <th>shipping</th>\n      <td>-7000</td>\n    </tr>\n  </tbody>\n</table>\n</div>"
                    },
                    "metadata": {}
                }
            ]
        },
        {
            "metadata": {},
            "cell_type": "code",
            "source": "display(trans.amount.cumsum())",
            "execution_count": 9,
            "outputs": [
                {
                    "output_type": "display_data",
                    "data": {
                        "text/plain": "sales           350000\nreturns         320000\ncredit fees     312500\nrebates         287500\nlate charges    382500\nshipping        375500\nName: amount, dtype: int64"
                    },
                    "metadata": {}
                }
            ]
        },
        {
            "metadata": {},
            "cell_type": "code",
            "source": "blank=trans.amount.cumsum().shift(1).fillna(0)\ndisplay(blank)",
            "execution_count": 10,
            "outputs": [
                {
                    "output_type": "display_data",
                    "data": {
                        "text/plain": "sales                0.0\nreturns         350000.0\ncredit fees     320000.0\nrebates         312500.0\nlate charges    287500.0\nshipping        382500.0\nName: amount, dtype: float64"
                    },
                    "metadata": {}
                }
            ]
        },
        {
            "metadata": {},
            "cell_type": "code",
            "source": "total = trans.sum().amount\ntrans.loc[\"net\"] = total\nblank.loc[\"net\"] = total\ndisplay(trans)\ndisplay(blank)",
            "execution_count": 11,
            "outputs": [
                {
                    "output_type": "display_data",
                    "data": {
                        "text/plain": "              amount\nsales         350000\nreturns       -30000\ncredit fees    -7500\nrebates       -25000\nlate charges   95000\nshipping       -7000\nnet           375500",
                        "text/html": "<div>\n<style scoped>\n    .dataframe tbody tr th:only-of-type {\n        vertical-align: middle;\n    }\n\n    .dataframe tbody tr th {\n        vertical-align: top;\n    }\n\n    .dataframe thead th {\n        text-align: right;\n    }\n</style>\n<table border=\"1\" class=\"dataframe\">\n  <thead>\n    <tr style=\"text-align: right;\">\n      <th></th>\n      <th>amount</th>\n    </tr>\n  </thead>\n  <tbody>\n    <tr>\n      <th>sales</th>\n      <td>350000</td>\n    </tr>\n    <tr>\n      <th>returns</th>\n      <td>-30000</td>\n    </tr>\n    <tr>\n      <th>credit fees</th>\n      <td>-7500</td>\n    </tr>\n    <tr>\n      <th>rebates</th>\n      <td>-25000</td>\n    </tr>\n    <tr>\n      <th>late charges</th>\n      <td>95000</td>\n    </tr>\n    <tr>\n      <th>shipping</th>\n      <td>-7000</td>\n    </tr>\n    <tr>\n      <th>net</th>\n      <td>375500</td>\n    </tr>\n  </tbody>\n</table>\n</div>"
                    },
                    "metadata": {}
                },
                {
                    "output_type": "display_data",
                    "data": {
                        "text/plain": "sales                0.0\nreturns         350000.0\ncredit fees     320000.0\nrebates         312500.0\nlate charges    287500.0\nshipping        382500.0\nnet             375500.0\nName: amount, dtype: float64"
                    },
                    "metadata": {}
                }
            ]
        },
        {
            "metadata": {},
            "cell_type": "code",
            "source": "step = blank.reset_index(drop=True).repeat(3).shift(-1)\nstep[1::3] = np.nan\ndisplay(step)",
            "execution_count": 12,
            "outputs": [
                {
                    "output_type": "display_data",
                    "data": {
                        "text/plain": "0         0.0\n0         NaN\n0    350000.0\n1    350000.0\n1         NaN\n1    320000.0\n2    320000.0\n2         NaN\n2    312500.0\n3    312500.0\n3         NaN\n3    287500.0\n4    287500.0\n4         NaN\n4    382500.0\n5    382500.0\n5         NaN\n5    375500.0\n6    375500.0\n6         NaN\n6         NaN\nName: amount, dtype: float64"
                    },
                    "metadata": {}
                }
            ]
        },
        {
            "metadata": {},
            "cell_type": "code",
            "source": "blank.loc[\"net\"] = 0",
            "execution_count": 13,
            "outputs": []
        },
        {
            "metadata": {},
            "cell_type": "code",
            "source": "my_plot = trans.plot(kind='bar', stacked=True, bottom=blank,legend=None, title=\"2014 Sales Waterfall\")\nmy_plot.plot(step.index, step.values,'k')",
            "execution_count": 14,
            "outputs": [
                {
                    "output_type": "execute_result",
                    "execution_count": 14,
                    "data": {
                        "text/plain": "[<matplotlib.lines.Line2D at 0x7ff06e335f28>]"
                    },
                    "metadata": {}
                },
                {
                    "output_type": "display_data",
                    "data": {
                        "text/plain": "<Figure size 432x288 with 1 Axes>",
                        "image/png": "[encoded data removed]"
                    },
                    "metadata": {
                        "needs_background": "light"
                    }
                }
            ]
        },
        {
            "metadata": {},
            "cell_type": "code",
            "source": "def money(x, pos):\n    'The two args are the value and tick position'\n    return \"${:,.0f}\".format(x)",
            "execution_count": 15,
            "outputs": []
        },
        {
            "metadata": {},
            "cell_type": "code",
            "source": "from matplotlib.ticker import FuncFormatter\nformatter = FuncFormatter(money)",
            "execution_count": 16,
            "outputs": []
        },
        {
            "metadata": {
                "scrolled": true
            },
            "cell_type": "code",
            "source": "my_plot = trans.plot(kind='bar', stacked=True, bottom=blank,legend=None, title=\"2014 Sales Waterfall\")\nmy_plot.plot(step.index, step.values,'k')\nmy_plot.set_xlabel(\"Transaction Types\")\nmy_plot.yaxis.set_major_formatter(formatter)",
            "execution_count": 17,
            "outputs": [
                {
                    "output_type": "display_data",
                    "data": {
                        "text/plain": "<Figure size 432x288 with 1 Axes>",
                        "image/png": "[encoded data removed]"
                    },
                    "metadata": {
                        "needs_background": "light"
                    }
                }
            ]
        },
        {
            "metadata": {},
            "cell_type": "code",
            "source": "",
            "execution_count": null,
            "outputs": []
        },
        {
            "metadata": {},
            "cell_type": "code",
            "source": "",
            "execution_count": null,
            "outputs": []
        }
    ],
    "metadata": {
        "kernelspec": {
            "name": "python3",
            "display_name": "Python 3.6",
            "language": "python"
        },
        "language_info": {
            "name": "python",
            "version": "3.6.9",
            "mimetype": "text/x-python",
            "codemirror_mode": {
                "name": "ipython",
                "version": 3
            },
            "pygments_lexer": "ipython3",
            "nbconvert_exporter": "python",
            "file_extension": ".py"
        }
    },
    "nbformat": 4,
    "nbformat_minor": 1
}