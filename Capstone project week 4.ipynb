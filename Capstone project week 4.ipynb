{
 "cells": [
  {
   "cell_type": "markdown",
   "metadata": {},
   "source": [
    "# Eating out location overview In Luxembourg"
   ]
  },
  {
   "cell_type": "markdown",
   "metadata": {},
   "source": [
    "Tatiana Kirillova"
   ]
  },
  {
   "cell_type": "markdown",
   "metadata": {},
   "source": [
    "March 23, 2020"
   ]
  },
  {
   "cell_type": "markdown",
   "metadata": {},
   "source": [
    "## 1. Background"
   ]
  },
  {
   "cell_type": "markdown",
   "metadata": {},
   "source": [
    "Luxembourg is a small country, located literally in the middle of Europe - between France and Germany. Luxembourg hosts European head quarters of several big IT companies such as, for exmaple, Amazon, or various bodies of European Comission. These entities are important employers, and they cannot rely on Luxembourg local labor market. As a result, they keep bringing workers from abroad in order to satisfy their staffing requirements."
   ]
  },
  {
   "cell_type": "markdown",
   "metadata": {},
   "source": [
    "## 2. Business Problem"
   ]
  },
  {
   "cell_type": "markdown",
   "metadata": {},
   "source": [
    "Luxembourg has a constantly growing population of expats, all of which begin with the stage of being completely new in the country. These people recently moved here, and are in need of a guidance regarding where they can find nice places in order to keep their habbits of urban professionals such as eating breakfast and lunch in special places. I would like to create an overview of the best breakfast and lunch places to provide guidance to these people."
   ]
  },
  {
   "cell_type": "markdown",
   "metadata": {},
   "source": [
    "## 3. Target audience"
   ]
  },
  {
   "cell_type": "markdown",
   "metadata": {},
   "source": [
    "The project has as a target audience all international employees who relocated to Luxembourg due to their employement, but specifically those who recently arrived to the country. They do not have yet their favorite places to have lunch or breakfast, however they would like to maintain urban life style and they need a way to discover such places in Luxembourg."
   ]
  },
  {
   "cell_type": "code",
   "execution_count": null,
   "metadata": {},
   "outputs": [],
   "source": []
  }
 ],
 "metadata": {
  "kernelspec": {
   "display_name": "Python 3",
   "language": "python",
   "name": "python3"
  },
  "language_info": {
   "codemirror_mode": {
    "name": "ipython",
    "version": 3
   },
   "file_extension": ".py",
   "mimetype": "text/x-python",
   "name": "python",
   "nbconvert_exporter": "python",
   "pygments_lexer": "ipython3",
   "version": "3.7.6"
  }
 },
 "nbformat": 4,
 "nbformat_minor": 4
}
